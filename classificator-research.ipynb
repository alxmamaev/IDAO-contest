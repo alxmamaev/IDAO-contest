{
 "cells": [
  {
   "cell_type": "code",
   "execution_count": 125,
   "metadata": {
    "collapsed": true
   },
   "outputs": [],
   "source": [
    "import pandas as pd\n",
    "from lightgbm.sklearn import LGBMClassifier\n",
    "from sklearn.model_selection import train_test_split, cross_val_score\n",
    "from sklearn.metrics import accuracy_score\n",
    "\n",
    "from sklearn.linear_model import SGDClassifier\n",
    "from sklearn.neural_network import MLPClassifier\n",
    "\n",
    "import time"
   ]
  },
  {
   "cell_type": "code",
   "execution_count": 8,
   "metadata": {},
   "outputs": [
    {
     "data": {
      "text/html": [
       "<div>\n",
       "<style>\n",
       "    .dataframe thead tr:only-child th {\n",
       "        text-align: right;\n",
       "    }\n",
       "\n",
       "    .dataframe thead th {\n",
       "        text-align: left;\n",
       "    }\n",
       "\n",
       "    .dataframe tbody tr th {\n",
       "        vertical-align: top;\n",
       "    }\n",
       "</style>\n",
       "<table border=\"1\" class=\"dataframe\">\n",
       "  <thead>\n",
       "    <tr style=\"text-align: right;\">\n",
       "      <th></th>\n",
       "      <th>user_id</th>\n",
       "      <th>id1_0</th>\n",
       "      <th>id1_1</th>\n",
       "      <th>id1_2</th>\n",
       "      <th>id1_3</th>\n",
       "      <th>id1_4</th>\n",
       "      <th>id1_5</th>\n",
       "      <th>id1_6</th>\n",
       "      <th>id1_7</th>\n",
       "      <th>id1_8</th>\n",
       "      <th>...</th>\n",
       "      <th>id2_113</th>\n",
       "      <th>id2_114</th>\n",
       "      <th>id2_115</th>\n",
       "      <th>id2_116</th>\n",
       "      <th>id2_117</th>\n",
       "      <th>id2_118</th>\n",
       "      <th>id2_119</th>\n",
       "      <th>id2_120</th>\n",
       "      <th>id2_121</th>\n",
       "      <th>target</th>\n",
       "    </tr>\n",
       "  </thead>\n",
       "  <tbody>\n",
       "    <tr>\n",
       "      <th>0</th>\n",
       "      <td>464300.0</td>\n",
       "      <td>0.0</td>\n",
       "      <td>0.013453</td>\n",
       "      <td>0.147982</td>\n",
       "      <td>0.026906</td>\n",
       "      <td>0.080717</td>\n",
       "      <td>0.004484</td>\n",
       "      <td>0.026906</td>\n",
       "      <td>0.040359</td>\n",
       "      <td>0.300448</td>\n",
       "      <td>...</td>\n",
       "      <td>0.0</td>\n",
       "      <td>0.0</td>\n",
       "      <td>0.0</td>\n",
       "      <td>0.008969</td>\n",
       "      <td>0.013453</td>\n",
       "      <td>0.004484</td>\n",
       "      <td>0.0</td>\n",
       "      <td>0.040359</td>\n",
       "      <td>0.0</td>\n",
       "      <td>704</td>\n",
       "    </tr>\n",
       "    <tr>\n",
       "      <th>1</th>\n",
       "      <td>464300.0</td>\n",
       "      <td>0.0</td>\n",
       "      <td>0.013453</td>\n",
       "      <td>0.147982</td>\n",
       "      <td>0.026906</td>\n",
       "      <td>0.080717</td>\n",
       "      <td>0.004484</td>\n",
       "      <td>0.026906</td>\n",
       "      <td>0.040359</td>\n",
       "      <td>0.300448</td>\n",
       "      <td>...</td>\n",
       "      <td>0.0</td>\n",
       "      <td>0.0</td>\n",
       "      <td>0.0</td>\n",
       "      <td>0.008969</td>\n",
       "      <td>0.013453</td>\n",
       "      <td>0.004484</td>\n",
       "      <td>0.0</td>\n",
       "      <td>0.040359</td>\n",
       "      <td>0.0</td>\n",
       "      <td>409</td>\n",
       "    </tr>\n",
       "    <tr>\n",
       "      <th>2</th>\n",
       "      <td>464300.0</td>\n",
       "      <td>0.0</td>\n",
       "      <td>0.013453</td>\n",
       "      <td>0.147982</td>\n",
       "      <td>0.026906</td>\n",
       "      <td>0.080717</td>\n",
       "      <td>0.004484</td>\n",
       "      <td>0.026906</td>\n",
       "      <td>0.040359</td>\n",
       "      <td>0.300448</td>\n",
       "      <td>...</td>\n",
       "      <td>0.0</td>\n",
       "      <td>0.0</td>\n",
       "      <td>0.0</td>\n",
       "      <td>0.008969</td>\n",
       "      <td>0.013453</td>\n",
       "      <td>0.004484</td>\n",
       "      <td>0.0</td>\n",
       "      <td>0.040359</td>\n",
       "      <td>0.0</td>\n",
       "      <td>528</td>\n",
       "    </tr>\n",
       "    <tr>\n",
       "      <th>3</th>\n",
       "      <td>464300.0</td>\n",
       "      <td>0.0</td>\n",
       "      <td>0.013453</td>\n",
       "      <td>0.147982</td>\n",
       "      <td>0.026906</td>\n",
       "      <td>0.080717</td>\n",
       "      <td>0.004484</td>\n",
       "      <td>0.026906</td>\n",
       "      <td>0.040359</td>\n",
       "      <td>0.300448</td>\n",
       "      <td>...</td>\n",
       "      <td>0.0</td>\n",
       "      <td>0.0</td>\n",
       "      <td>0.0</td>\n",
       "      <td>0.008969</td>\n",
       "      <td>0.013453</td>\n",
       "      <td>0.004484</td>\n",
       "      <td>0.0</td>\n",
       "      <td>0.040359</td>\n",
       "      <td>0.0</td>\n",
       "      <td>545</td>\n",
       "    </tr>\n",
       "    <tr>\n",
       "      <th>4</th>\n",
       "      <td>464300.0</td>\n",
       "      <td>0.0</td>\n",
       "      <td>0.013453</td>\n",
       "      <td>0.147982</td>\n",
       "      <td>0.026906</td>\n",
       "      <td>0.080717</td>\n",
       "      <td>0.004484</td>\n",
       "      <td>0.026906</td>\n",
       "      <td>0.040359</td>\n",
       "      <td>0.300448</td>\n",
       "      <td>...</td>\n",
       "      <td>0.0</td>\n",
       "      <td>0.0</td>\n",
       "      <td>0.0</td>\n",
       "      <td>0.008969</td>\n",
       "      <td>0.013453</td>\n",
       "      <td>0.004484</td>\n",
       "      <td>0.0</td>\n",
       "      <td>0.040359</td>\n",
       "      <td>0.0</td>\n",
       "      <td>13</td>\n",
       "    </tr>\n",
       "  </tbody>\n",
       "</table>\n",
       "<p>5 rows × 140 columns</p>\n",
       "</div>"
      ],
      "text/plain": [
       "    user_id  id1_0     id1_1     id1_2     id1_3     id1_4     id1_5  \\\n",
       "0  464300.0    0.0  0.013453  0.147982  0.026906  0.080717  0.004484   \n",
       "1  464300.0    0.0  0.013453  0.147982  0.026906  0.080717  0.004484   \n",
       "2  464300.0    0.0  0.013453  0.147982  0.026906  0.080717  0.004484   \n",
       "3  464300.0    0.0  0.013453  0.147982  0.026906  0.080717  0.004484   \n",
       "4  464300.0    0.0  0.013453  0.147982  0.026906  0.080717  0.004484   \n",
       "\n",
       "      id1_6     id1_7     id1_8   ...    id2_113  id2_114  id2_115   id2_116  \\\n",
       "0  0.026906  0.040359  0.300448   ...        0.0      0.0      0.0  0.008969   \n",
       "1  0.026906  0.040359  0.300448   ...        0.0      0.0      0.0  0.008969   \n",
       "2  0.026906  0.040359  0.300448   ...        0.0      0.0      0.0  0.008969   \n",
       "3  0.026906  0.040359  0.300448   ...        0.0      0.0      0.0  0.008969   \n",
       "4  0.026906  0.040359  0.300448   ...        0.0      0.0      0.0  0.008969   \n",
       "\n",
       "    id2_117   id2_118  id2_119   id2_120  id2_121  target  \n",
       "0  0.013453  0.004484      0.0  0.040359      0.0     704  \n",
       "1  0.013453  0.004484      0.0  0.040359      0.0     409  \n",
       "2  0.013453  0.004484      0.0  0.040359      0.0     528  \n",
       "3  0.013453  0.004484      0.0  0.040359      0.0     545  \n",
       "4  0.013453  0.004484      0.0  0.040359      0.0      13  \n",
       "\n",
       "[5 rows x 140 columns]"
      ]
     },
     "execution_count": 8,
     "metadata": {},
     "output_type": "execute_result"
    }
   ],
   "source": [
    "data = pd.read_csv(\"./data/train/data_1.csv\").drop([\"Unnamed: 0\"], axis=1)\n",
    "data.head()"
   ]
  },
  {
   "cell_type": "code",
   "execution_count": 9,
   "metadata": {
    "collapsed": true
   },
   "outputs": [],
   "source": [
    "data_x = data[data.columns[1:-1]]\n",
    "data_y = data[[\"target\"]]"
   ]
  },
  {
   "cell_type": "code",
   "execution_count": 12,
   "metadata": {
    "collapsed": true
   },
   "outputs": [],
   "source": [
    "Xtrain, Xtest, Ytrain, Ytest = train_test_split(data_x, data_y, test_size=0.33, shuffle=True)"
   ]
  },
  {
   "cell_type": "code",
   "execution_count": 99,
   "metadata": {
    "collapsed": true
   },
   "outputs": [],
   "source": [
    "# model = LGBMClassifier(n_estimators=100, max_depth=2)\n",
    "# model = SGDClassifier(loss=\"perceptron\")\n",
    "\n",
    "model = MLPClassifier()"
   ]
  },
  {
   "cell_type": "code",
   "execution_count": 100,
   "metadata": {
    "scrolled": true
   },
   "outputs": [
    {
     "name": "stderr",
     "output_type": "stream",
     "text": [
      "/home/alxmamaev/anaconda3/lib/python3.6/site-packages/sklearn/neural_network/multilayer_perceptron.py:912: DataConversionWarning: A column-vector y was passed when a 1d array was expected. Please change the shape of y to (n_samples, ), for example using ravel().\n",
      "  y = column_or_1d(y, warn=True)\n",
      "/home/alxmamaev/anaconda3/lib/python3.6/site-packages/sklearn/neural_network/multilayer_perceptron.py:566: UserWarning: Training interrupted by user.\n",
      "  warnings.warn(\"Training interrupted by user.\")\n"
     ]
    },
    {
     "data": {
      "text/plain": [
       "MLPClassifier(activation='relu', alpha=0.0001, batch_size='auto', beta_1=0.9,\n",
       "       beta_2=0.999, early_stopping=False, epsilon=1e-08,\n",
       "       hidden_layer_sizes=(100,), learning_rate='constant',\n",
       "       learning_rate_init=0.001, max_iter=200, momentum=0.9,\n",
       "       nesterovs_momentum=True, power_t=0.5, random_state=None,\n",
       "       shuffle=True, solver='adam', tol=0.0001, validation_fraction=0.1,\n",
       "       verbose=False, warm_start=False)"
      ]
     },
     "execution_count": 100,
     "metadata": {},
     "output_type": "execute_result"
    }
   ],
   "source": [
    "model.fit(Xtrain, Ytrain)"
   ]
  },
  {
   "cell_type": "code",
   "execution_count": 126,
   "metadata": {},
   "outputs": [
    {
     "name": "stdout",
     "output_type": "stream",
     "text": [
      "1.1208305358886719\n"
     ]
    }
   ],
   "source": [
    "t = time.time()\n",
    "pred_y = model.predict(Xtest)\n",
    "\n",
    "print(time.time()-t)"
   ]
  },
  {
   "cell_type": "code",
   "execution_count": 124,
   "metadata": {},
   "outputs": [
    {
     "name": "stdout",
     "output_type": "stream",
     "text": [
      "123\n",
      "[60]\n",
      "573\n",
      "731\n",
      "534\n",
      "115\n",
      "306\n"
     ]
    }
   ],
   "source": [
    "g = int(input())\n",
    "print(Ytest.get_values()[g])\n",
    "\n",
    "# print(model.predict([Xtest.get_values()[90]]))\n",
    "prob = model.predict_proba([Xtest.get_values()[90]])\n",
    "for i in sorted(list(zip(prob[0].tolist(), [i for i in range(prob.size)])), reverse=True)[:5]:\n",
    "    print(i[1])"
   ]
  },
  {
   "cell_type": "code",
   "execution_count": 103,
   "metadata": {},
   "outputs": [
    {
     "data": {
      "text/plain": [
       "5.8075031453734418"
      ]
     },
     "execution_count": 103,
     "metadata": {},
     "output_type": "execute_result"
    }
   ],
   "source": [
    "accuracy_score(pred_y, Ytest)*100"
   ]
  },
  {
   "cell_type": "code",
   "execution_count": 83,
   "metadata": {},
   "outputs": [
    {
     "data": {
      "text/plain": [
       "0.12048192771084339"
      ]
     },
     "execution_count": 83,
     "metadata": {},
     "output_type": "execute_result"
    }
   ],
   "source": [
    "1/Ytest[\"target\"].unique().size*100"
   ]
  },
  {
   "cell_type": "code",
   "execution_count": 127,
   "metadata": {
    "collapsed": true
   },
   "outputs": [],
   "source": [
    "import pickle"
   ]
  },
  {
   "cell_type": "code",
   "execution_count": 128,
   "metadata": {
    "collapsed": true
   },
   "outputs": [],
   "source": [
    "with open('cls.pickle', 'wb') as f:\n",
    "    pickle.dump(model, f)"
   ]
  },
  {
   "cell_type": "code",
   "execution_count": null,
   "metadata": {
    "collapsed": true
   },
   "outputs": [],
   "source": [
    "with open('data.pickle', 'rb') as f:\n",
    ".data_new = pickle.load(f)"
   ]
  }
 ],
 "metadata": {
  "kernelspec": {
   "display_name": "Python 3",
   "language": "python",
   "name": "python3"
  },
  "language_info": {
   "codemirror_mode": {
    "name": "ipython",
    "version": 3
   },
   "file_extension": ".py",
   "mimetype": "text/x-python",
   "name": "python",
   "nbconvert_exporter": "python",
   "pygments_lexer": "ipython3",
   "version": "3.6.3"
  }
 },
 "nbformat": 4,
 "nbformat_minor": 2
}
